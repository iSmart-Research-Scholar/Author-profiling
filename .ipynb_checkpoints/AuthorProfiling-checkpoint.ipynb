{
 "cells": [
  {
   "cell_type": "code",
   "execution_count": 1,
   "id": "505c8c14",
   "metadata": {},
   "outputs": [],
   "source": [
    "from selenium import webdriver\n",
    "from selenium.webdriver.common.by import By\n",
    "from webdriver_manager.chrome import ChromeDriverManager\n",
    "from selenium.webdriver.chrome.options import Options\n",
    "import threading\n",
    "from difflib import SequenceMatcher"
   ]
  },
  {
   "cell_type": "code",
   "execution_count": 7,
   "id": "0ed0f22e",
   "metadata": {},
   "outputs": [
    {
     "name": "stderr",
     "output_type": "stream",
     "text": [
      "/Users/anilaswani/opt/anaconda3/envs/nlp_course/lib/python3.7/site-packages/ipykernel_launcher.py:1: DeprecationWarning: executable_path has been deprecated, please pass in a Service object\n",
      "  \"\"\"Entry point for launching an IPython kernel.\n"
     ]
    }
   ],
   "source": [
    "driver1 = webdriver.Chrome(ChromeDriverManager().install())\n",
    "# driver2 = webdriver.Chrome(ChromeDriverManager().install())\n",
    "# driver3 = webdriver.Chrome(ChromeDriverManager().install())\n",
    "\n",
    "author_profiles=[] \n",
    "\n",
    "def profiling1(link1,keywords):\n",
    "    authorScore = 0\n",
    "    \n",
    "    driver1.get(link1)\n",
    "    driver1.implicitly_wait(5)\n",
    "    try:\n",
    "        l = driver1.find_element(\"link text\", \"Show More\")\n",
    "        driver1.execute_script('arguments[0].click()', l)\n",
    "    except:\n",
    "        pass\n",
    "    name = (driver1.find_elements(By.XPATH,\"//h1[contains(@class,'hide-mobile')]\"))\n",
    "    publication_topics_list = driver1.find_elements(By.XPATH,\"//div[contains(@class,'research-areas')]\")\n",
    "    publication_count = (driver1.find_elements(By.XPATH,\"//div[contains(@class,'publications col-6 text-base-md-lh')]\"))\n",
    "    citations = (driver1.find_elements(By.XPATH,\"//div[contains(@class,'citations col-6')]\"))\n",
    "    startYear = (driver1.find_elements(By.XPATH,\"//span[contains(@class,'start-year col-6')]\"))\n",
    "    endYear = (driver1.find_elements(By.XPATH,\"//span[contains(@class,'end-year col-6')]\"))\n",
    "    \n",
    "    timePeriod = int((int(endYear[1].text))-(int(startYear[1].text)))+1\n",
    "    \n",
    "    citationsPerPaper = int(int((int(citations[1].text.split(\"\\n\")[1]))) / (int((publication_count[0].text).split(\"\\n\")[1])))\n",
    "    publicationsPerYear = int((int((publication_count[0].text).split(\"\\n\")[1])) / (timePeriod))\n",
    "    \n",
    "    print(name[0].text)\n",
    "    print(publication_topics_list[0].text)\n",
    "    print(citationsPerPaper)\n",
    "    print(publicationsPerYear)\n",
    "    print(SequenceMatcher(None,publication_topics_list[0].text , keywords).ratio())\n",
    "    \n",
    "    try:\n",
    "        l = driver1.find_element(\"link text\", \"Show More\")\n",
    "        driver1.execute_script('arguments[0].click()', biography)\n",
    "        biography = ((driver1.find_elements(By.XPATH,\"//div[contains(@class,'biography')]\"))[0]).text \n",
    "        print(biography)\n",
    "    except:\n",
    "        pass\n",
    "    \n",
    "    return author_profiles;\n",
    "\n",
    "\n",
    "def authorProfiling(list):\n",
    "    \n",
    "    number_of_authors = len(list)-1\n",
    "    keywords = list[0]\n",
    "    authors=[]\n",
    "    for itr in range(1,number_of_authors+1,1):\n",
    "        authors.append(list[itr])\n",
    "    if(number_of_authors==1):\n",
    "        profiling1(str(authors[0]),keywords,)\n",
    "        \n",
    "#     elif(number_of_authors==2):\n",
    "#         author1 = str(authors[0])\n",
    "#         author2 = str(authors[1])\n",
    "        \n",
    "#         t1 = threading.Thread(target=profiling1,args=(author1,keywords,))\n",
    "#         t2 = threading.Thread(target=profiling2,args=(author2,keywords,))\n",
    "       \n",
    "#         t1.start()\n",
    "#         t2.start()\n",
    "        \n",
    "#         t1.join()\n",
    "#         t2.join()\n",
    "#     else:\n",
    "#         author1 = str(authors[0])\n",
    "#         author2 = str(authors[1])\n",
    "#         author3 = str(authors[2])\n",
    "        \n",
    "#         t1 = threading.Thread(target=profiling1,args=(author1,keywords,))\n",
    "#         t2 = threading.Thread(target=profiling2,args=(author2,keywords,))\n",
    "#         t3 = threading.Thread(target=profiling3,args=(author3,keywords,))\n",
    "       \n",
    "#         t1.start()\n",
    "#         t2.start()\n",
    "#         t2.start()\n",
    "        \n",
    "#         t1.join()\n",
    "#         t2.join()\n",
    "#         t3.join()"
   ]
  },
  {
   "cell_type": "code",
   "execution_count": 8,
   "id": "416db3ea",
   "metadata": {},
   "outputs": [
    {
     "name": "stdout",
     "output_type": "stream",
     "text": [
      "Daniel Walther\n",
      "Daniel Walther\n",
      "Publication Topics\n",
      "differentiation,frequency-domain analysis,mathematics computing,signal processing,software tools\n",
      "0\n",
      "1\n",
      "Publication Topics\n",
      "differentiation,frequency-domain analysis,mathematics computing,signal processing,software tools\n",
      "0\n",
      "1\n",
      "0.06666666666666667\n",
      "0.06666666666666667\n"
     ]
    }
   ],
   "source": [
    "authorProfiling([\"image\",\"https://ieeexplore.ieee.org/author/37086428848\"])"
   ]
  },
  {
   "cell_type": "code",
   "execution_count": null,
   "id": "0f887166",
   "metadata": {},
   "outputs": [],
   "source": []
  }
 ],
 "metadata": {
  "kernelspec": {
   "display_name": "Python 3 (ipykernel)",
   "language": "python",
   "name": "python3"
  },
  "language_info": {
   "codemirror_mode": {
    "name": "ipython",
    "version": 3
   },
   "file_extension": ".py",
   "mimetype": "text/x-python",
   "name": "python",
   "nbconvert_exporter": "python",
   "pygments_lexer": "ipython3",
   "version": "3.7.13"
  }
 },
 "nbformat": 4,
 "nbformat_minor": 5
}
