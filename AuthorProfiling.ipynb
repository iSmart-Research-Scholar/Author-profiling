{
 "cells": [
  {
   "cell_type": "code",
   "execution_count": 370,
   "id": "1efbb486",
   "metadata": {},
   "outputs": [],
   "source": [
    "from selenium import webdriver\n",
    "from selenium.webdriver.common.by import By\n",
    "from webdriver_manager.chrome import ChromeDriverManager\n",
    "from selenium.webdriver.chrome.options import Options\n",
    "import threading\n",
    "import re\n",
    "import spacy\n",
    "sp = spacy.load('en_core_web_sm')"
   ]
  },
  {
   "cell_type": "code",
   "execution_count": 371,
   "id": "6ad5b091",
   "metadata": {},
   "outputs": [],
   "source": [
    "def check_position(biography):\n",
    "    positions = ['president', 'vice president', 'chair', 'general chair', 'secretary', 'program chair', 'committee', 'director']\n",
    "    count = 0\n",
    "    for position in positions:\n",
    "        if biography.find(position) != -1:\n",
    "            count = count + 1\n",
    "    # TODO: Check Weight of Position\n",
    "    weight = 0.15\n",
    "    if count > 0:\n",
    "        return weight\n",
    "    else:\n",
    "        return 0"
   ]
  },
  {
   "cell_type": "code",
   "execution_count": 372,
   "id": "2bab91fb",
   "metadata": {},
   "outputs": [],
   "source": [
    "def citations_per_paper_score(citations, number_of_papers):\n",
    "    citations_per_paper = citations / number_of_papers\n",
    "    if citations_per_paper < 5 :\n",
    "        return 0.03 * citations_per_paper\n",
    "    else :\n",
    "        return 0.15"
   ]
  },
  {
   "cell_type": "code",
   "execution_count": 373,
   "id": "f6c355b2",
   "metadata": {},
   "outputs": [],
   "source": [
    "def publications_per_year_score(publication, start_year, end_year):\n",
    "    # print(publication, start_year, end_year)\n",
    "    publications_per_year = publication / (end_year - start_year + 1)\n",
    "    if publications_per_year < 3:\n",
    "        return 0.15 * publications_per_year / 2\n",
    "    elif publications_per_year < 6:\n",
    "        return 0.15 * (6 - publications_per_year) / 2\n",
    "    else:\n",
    "        return 0"
   ]
  },
  {
   "cell_type": "code",
   "execution_count": 374,
   "id": "a6d89071",
   "metadata": {},
   "outputs": [],
   "source": [
    "def experience_score(start_year, end_year):\n",
    "    time_duration = end_year - start_year + 1\n",
    "    if time_duration < 16:\n",
    "        return 0.15 * time_duration / 15\n",
    "    else:\n",
    "        return 0.15"
   ]
  },
  {
   "cell_type": "code",
   "execution_count": 375,
   "id": "8d037d3c",
   "metadata": {},
   "outputs": [],
   "source": [
    "def check_topic_relevance(keywords, publication_topics):\n",
    "    text_tokens = list(keywords)\n",
    "    publication_topics = list(publication_topics)\n",
    "    all_stopwords = sp.Defaults.stop_words\n",
    "    tokens_without_stopwords = [word for word in text_tokens if not word in all_stopwords]\n",
    "    relevant_topics = [word for word in tokens_without_stopwords for topic in publication_topics if topic == word]\n",
    "    if len(relevant_topics) == len(tokens_without_stopwords):\n",
    "        return 0.4\n",
    "    else:\n",
    "        return 0.4 * len(relevant_topics) / len(tokens_without_stopwords)"
   ]
  },
  {
   "cell_type": "code",
   "execution_count": 376,
   "id": "319eafc6",
   "metadata": {},
   "outputs": [],
   "source": [
    "import warnings\n",
    "import json\n",
    "warnings.filterwarnings(\"ignore\")\n",
    "\n",
    "author_profiles = []"
   ]
  },
  {
   "cell_type": "code",
   "execution_count": 377,
   "id": "d659cb5a",
   "metadata": {},
   "outputs": [],
   "source": [
    "def profiling1(link1,keywords):\n",
    "    driver1 = webdriver.Chrome(ChromeDriverManager().install())\n",
    "    keywords = re.split(',|\\s+|_', keywords)\n",
    "    keywords = set(keywords)\n",
    "    authorScore = 0\n",
    "    \n",
    "    driver1.get(link1)\n",
    "    driver1.implicitly_wait(5)\n",
    "    \n",
    "    try:\n",
    "        l = driver1.find_element(\"link text\", \"Show More\")\n",
    "        driver1.execute_script('arguments[0].click()', l)\n",
    "    except:\n",
    "        pass\n",
    "    \n",
    "    name = (driver1.find_elements(By.XPATH,\"//h1[contains(@class,'hide-mobile')]\"))[0].text\n",
    "    publication_topics_list = driver1.find_elements(By.XPATH,\"//div[contains(@class,'research-areas')]\")\n",
    "    publication = (driver1.find_elements(By.XPATH,\"//div[contains(@class,'publications col-6 text-base-md-lh')]\"))\n",
    "    publication_count = int((publication[0].text.replace(\",\",\"\")).split(\"\\n\")[1])\n",
    "    citation = (driver1.find_elements(By.XPATH,\"//div[contains(@class,'citations col-6')]\"))\n",
    "    citation_count = int(int((int(citation[1].text.replace(\",\", \"\").split(\"\\n\")[1]))))\n",
    "    start_year = int((driver1.find_elements(By.XPATH,\"//span[contains(@class,'start-year col-6')]\"))[1].text)\n",
    "    end_year = int((driver1.find_elements(By.XPATH,\"//span[contains(@class,'end-year col-6')]\"))[1].text)\n",
    "    \n",
    "    publication_topics_list = (((publication_topics_list[0].text).replace(\"Publication Topics\",\"\")).strip())\n",
    "    publication_topics_list = re.split(',|\\s+', publication_topics_list)\n",
    "    publication_topics_list = set(publication_topics_list)\n",
    "\n",
    "    biography = \"\"\n",
    "    try:\n",
    "        try:\n",
    "            l = driver1.find_element(\"link text\", \"Show More\")\n",
    "            driver1.execute_script('arguments[0].click()', l)\n",
    "        except:\n",
    "            pass\n",
    "        biography = ((driver1.find_elements(By.XPATH,\"//div[contains(@class,'biography')]\"))[0]).text \n",
    "    except:\n",
    "        pass\n",
    "\n",
    "    author_score =  check_position(biography) + check_topic_relevance(keywords, publication_topics_list) + publications_per_year_score(publication_count, start_year, end_year) + citations_per_paper_score(citation_count, publication_count) + experience_score(start_year, end_year)\n",
    "\n",
    "    driver1.close()\n",
    "    output = {\"name\": name, \"citation_count\": citation_count, \"publication_count\" : publication_count, \"publication_topics_list\": list(publication_topics_list), \"biography\": biography, \"author_score\": author_score}\n",
    "    author_profiles.append(json.dumps(output))\n",
    "    return None"
   ]
  },
  {
   "cell_type": "code",
   "execution_count": 378,
   "id": "9e62c558",
   "metadata": {},
   "outputs": [],
   "source": [
    "def authorProfiling(list):\n",
    "    final_output = {}\n",
    "    number_of_authors = len(list)-1\n",
    "    keywords = list[0]\n",
    "    authors=[]\n",
    "    for itr in range(1,number_of_authors+1,1):\n",
    "        authors.append(list[itr])\n",
    "    if(number_of_authors==1):\n",
    "        author = str(author[0])\n",
    "\n",
    "        t1 = threading.Thread(target=profiling1, args=(author, keywords))\n",
    "\n",
    "        t1.start()\n",
    "        t1.join()\n",
    "\n",
    "        final_output = json.dumps({\"t1\": author_profiles[0]})    \n",
    "    \n",
    "    elif(number_of_authors==2):\n",
    "        author1 = str(authors[0])\n",
    "        author2 = str(authors[1])\n",
    "        \n",
    "        t1 = threading.Thread(target=profiling1,args=(author1,keywords))\n",
    "        t2 = threading.Thread(target=profiling1,args=(author2,keywords))\n",
    "       \n",
    "        t1.start()\n",
    "        t2.start()\n",
    "        \n",
    "        t1.join()\n",
    "        t2.join()\n",
    "        \n",
    "        final_output = json.dumps({\"t1\": author_profiles[0], \"t2\": author_profiles[1]})\n",
    "\n",
    "    else:\n",
    "        author1 = str(authors[0])\n",
    "        author2 = str(authors[1])\n",
    "        author3 = str(authors[2])\n",
    "        \n",
    "        t1 = threading.Thread(target=profiling1,args=(author1,keywords))\n",
    "        t2 = threading.Thread(target=profiling1,args=(author2,keywords))\n",
    "        t3 = threading.Thread(target=profiling1,args=(author3,keywords))\n",
    "       \n",
    "        t1.start()\n",
    "        t2.start()\n",
    "        t3.start()\n",
    "        \n",
    "        t1.join()\n",
    "        t2.join()\n",
    "        t3.join()\n",
    "        \n",
    "        final_output = json.dumps({\"t1\": author_profiles[0], \"t2\": author_profiles[1], \"t3\": author_profiles[2]})\n",
    "    return final_output"
   ]
  },
  {
   "cell_type": "code",
   "execution_count": 379,
   "id": "139ca43d",
   "metadata": {},
   "outputs": [
    {
     "name": "stdout",
     "output_type": "stream",
     "text": [
      "{\"t1\": \"{\\\"name\\\": \\\"Alan Bovik\\\", \\\"citation_count\\\": 64583, \\\"publication_count\\\": 502, \\\"publication_topics_list\\\": [\\\"\\\", \\\"data\\\", \\\"video\\\", \\\"reality\\\", \\\"Show\\\", \\\"(artificial\\\", \\\"compression\\\", \\\"signal\\\", \\\"virtual\\\", \\\"More\\\", \\\"image\\\", \\\"processing\\\", \\\"distortion\\\", \\\"coding\\\", \\\"streaming\\\", \\\"resolution\\\", \\\"analysis\\\", \\\"statistical\\\", \\\"intelligence)\\\", \\\"feature\\\", \\\"extraction\\\", \\\"learning\\\"], \\\"biography\\\": \\\"Biography\\\\nAlan C. Bovik (Fellow, IEEE) is currently Cockrell Family Regents Endowed Chair Professor at The University of Texas at Austin. His research interests include image processing, visual neuroscience, digital television, and streaming and social media. In particular, he is noted for the creation of neuroscience-based picture and video quality models that are used to control a substantial percentage of all streaming and social visual media, and hence most global Internet traffic. He is also noted for his experimental work in building numerous large-scale psychometric databases dedicated to the study of nearly every aspect of picture, video, and VR quality, and for the development of new theories of visual distortion perception at the neural level that underlie the development of his globally deployed algorithms.\\\\n\\\\nFor his work he was named the recipient of the 2022 IEEE Edison Medal \\\\\\\"for pioneering high-impact scientific and engineering contributions leading to the perceptually optimized global streaming and sharing of visual media.\\\\\\\" He has also received the Progress Medal from The Royal Photographic Society, the IEEE Fourier Award, the Edwin H. Land Medal from Optica, a Primetime Emmy Award for Outstanding Achievement in Engineering Development from the Television Academy for his work on monitoring and controlling the quality of modern digital television, and a Technology and Engineering Emmy Award for the \\\\\\\"development of perceptual metrics for video encoding optimization.\\\\\\\"\\\\n\\\\nA dedicated educator, he is also the recipient of the Karl Friedrich Gauss Education Award from the IEEE Signal Processing Society, and the Gordon S. Lepley Teaching Award from The University of Texas at Austin. A perennial Web of Science Group Highly-Cited Researcher, he and his students have received about ten best journal paper awards, including the 2016 IEEE Signal Processing Society Sustained Impact Award. His recent books include The Essential Guides to Image and Video Processing. His professional service has been unusually extensive, as he co-founded and was the longest-serving Editor-in- Chief of the IEEE Transactions on Image Processing, and also created and chaired the first IEEE International Conference on Image Processing which was held in Austin, Texas in 1994.Show Less\\\", \\\"author_score\\\": 0.7166666666666667}\", \"t2\": \"{\\\"name\\\": \\\"Antriksh Goswami\\\", \\\"citation_count\\\": 32, \\\"publication_count\\\": 3, \\\"publication_topics_list\\\": [\\\"(mathematics)\\\", \\\"theory\\\", \\\"network\\\", \\\"multicast\\\", \\\"game\\\", \\\"communication\\\", \\\"Show\\\", \\\"Things\\\", \\\"consumption\\\", \\\"computing\\\", \\\"Less\\\", \\\"telecommunication\\\", \\\"incentive\\\", \\\"peer-to-peer\\\", \\\"management\\\", \\\"schemes\\\", \\\"of\\\", \\\"allocation\\\", \\\"computation\\\", \\\"resource\\\", \\\"evolutionary\\\", \\\"trees\\\", \\\"Internet\\\", \\\"power\\\", \\\"routing\\\"], \\\"biography\\\": \\\"Biography\\\\nAntriksh Goswami received the B.E. degree from the University of Rajasthan, Jaipur, India, in 2009, the M.Tech. degree from the Indian Institute of Information Technology and Management Gwalior, Gwalior, India, in 2014, and the Ph.D. degree from the Indian Institute of Information Technology, Design and Manufacturing Jabalpur, Jabalpur, India, in 2018.,He is a Faculty Member with the Indian Institute of Information Technology Vadodara, Vadodara, India. His research interests include distributed computing, applied game theory, computer networks, and peer-to-peer networking.(Based on document published on 1 April 2022).\\\", \\\"author_score\\\": 0.3808333333333333}\", \"t3\": \"{\\\"name\\\": \\\"Novarun Deb\\\", \\\"citation_count\\\": 13, \\\"publication_count\\\": 9, \\\"publication_topics_list\\\": [\\\"environment\\\", \\\"data\\\", \\\"backpropagation\\\", \\\"indoor\\\", \\\"administrative\\\", \\\"theory\\\", \\\"perceptrons\\\", \\\"multilayer\\\", \\\"regression\\\", \\\"specification\\\", \\\"software\\\", \\\"maintenance\\\", \\\"institutions\\\", \\\"formal\\\", \\\"cloud\\\", \\\"health\\\", \\\"interfaces\\\", \\\"state\\\", \\\"machines\\\", \\\"Things\\\", \\\"Show\\\", \\\"Positioning\\\", \\\"risk\\\", \\\"computing\\\", \\\"care\\\", \\\"(artificial\\\", \\\"Less\\\", \\\"Global\\\", \\\"neural\\\", \\\"temporal\\\", \\\"System\\\", \\\"mobile\\\", \\\"radio\\\", \\\"finite\\\", \\\"of\\\", \\\"processing\\\", \\\"user\\\", \\\"analysis\\\", \\\"quality\\\", \\\"automata\\\", \\\"educational\\\", \\\"systems\\\", \\\"models\\\", \\\"Internet\\\", \\\"intelligence)\\\", \\\"logic\\\", \\\"learning\\\", \\\"verification\\\", \\\"nets\\\"], \\\"biography\\\": \\\"\\\", \\\"author_score\\\": 0.474375}\"}\n"
     ]
    }
   ],
   "source": [
    "print(authorProfiling([\"image theory analysis and image\",\"https://ieeexplore.ieee.org/author/37283451200\", \"https://ieeexplore.ieee.org/author/37086061607\", \"https://ieeexplore.ieee.org/author/37085753500\"]))\n",
    "# * Dr. Antriksh Goswami Sir : https://ieeexplore.ieee.org/author/37086061607\n",
    "# * Dr. Novarun Deb Sir : https://ieeexplore.ieee.org/author/37085753500\n",
    "# * Dr. Sunil Dutt Sir : https://ieeexplore.ieee.org/author/37085562899\n",
    "# * Alan Bovik : https://ieeexplore.ieee.org/author/37283451200\n",
    "# * Muhammad Alrabeiah : https://ieeexplore.ieee.org/author/37086822595"
   ]
  }
 ],
 "metadata": {
  "kernelspec": {
   "display_name": "Python 3.9.12 ('base')",
   "language": "python",
   "name": "python3"
  },
  "language_info": {
   "codemirror_mode": {
    "name": "ipython",
    "version": 3
   },
   "file_extension": ".py",
   "mimetype": "text/x-python",
   "name": "python",
   "nbconvert_exporter": "python",
   "pygments_lexer": "ipython3",
   "version": "3.9.12"
  },
  "vscode": {
   "interpreter": {
    "hash": "ad2bdc8ecc057115af97d19610ffacc2b4e99fae6737bb82f5d7fb13d2f2c186"
   }
  }
 },
 "nbformat": 4,
 "nbformat_minor": 5
}
