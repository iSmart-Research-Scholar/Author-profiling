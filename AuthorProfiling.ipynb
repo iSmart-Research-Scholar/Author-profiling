{
 "cells": [
  {
   "cell_type": "code",
   "execution_count": 22,
   "id": "1efbb486",
   "metadata": {},
   "outputs": [],
   "source": [
    "from selenium import webdriver\n",
    "from selenium.webdriver.common.by import By\n",
    "from webdriver_manager.chrome import ChromeDriverManager\n",
    "from selenium.webdriver.chrome.options import Options\n",
    "import threading\n",
    "#from difflib import SequenceMatcher\n",
    "import re"
   ]
  },
  {
   "cell_type": "code",
   "execution_count": 23,
   "id": "319eafc6",
   "metadata": {},
   "outputs": [],
   "source": [
    "import warnings\n",
    "warnings.filterwarnings(\"ignore\")\n",
    "\n",
    "driver1 = webdriver.Chrome(ChromeDriverManager().install())\n",
    "# driver2 = webdriver.Chrome(ChromeDriverManager().install())\n",
    "# driver3 = webdriver.Chrome(ChromeDriverManager().install())\n",
    "\n",
    "author_profiles=[] \n",
    "\n",
    "def profiling1(link1,keywords):\n",
    "    keywords = re.split(',|\\s+|_', keywords)\n",
    "    keywords = set(keywords)\n",
    "    authorScore = 0\n",
    "    \n",
    "    driver1.get(link1)\n",
    "    driver1.implicitly_wait(5)\n",
    "    \n",
    "    try:\n",
    "        l = driver1.find_element(\"link text\", \"Show More\")\n",
    "        driver1.execute_script('arguments[0].click()', l)\n",
    "    except:\n",
    "        pass\n",
    "    \n",
    "    name = (driver1.find_elements(By.XPATH,\"//h1[contains(@class,'hide-mobile')]\"))\n",
    "    publication_topics_list = driver1.find_elements(By.XPATH,\"//div[contains(@class,'research-areas')]\")\n",
    "    publication_count = (driver1.find_elements(By.XPATH,\"//div[contains(@class,'publications col-6 text-base-md-lh')]\"))\n",
    "    citations = (driver1.find_elements(By.XPATH,\"//div[contains(@class,'citations col-6')]\"))\n",
    "    startYear = (driver1.find_elements(By.XPATH,\"//span[contains(@class,'start-year col-6')]\"))\n",
    "    endYear = (driver1.find_elements(By.XPATH,\"//span[contains(@class,'end-year col-6')]\"))\n",
    "    \n",
    "    timePeriod = int((int(endYear[1].text))-(int(startYear[1].text)))+1\n",
    "    \n",
    "    citationsPerPaper = int(int((int(citations[1].text.split(\"\\n\")[1]))) / (int((publication_count[0].text).split(\"\\n\")[1])))\n",
    "    publicationsPerYear = int((int((publication_count[0].text).split(\"\\n\")[1])) / (timePeriod))\n",
    "    \n",
    "    name = name[0].text\n",
    "    publication_topics_list = (((publication_topics_list[0].text).replace(\"Publication Topics\",\"\")).strip())\n",
    "    publication_topics_list = re.split(',|\\s+', publication_topics_list)\n",
    "    publication_topics_list = set(publication_topics_list)\n",
    "    print(name)\n",
    "    print(publication_topics_list)\n",
    "    print(citationsPerPaper)\n",
    "    print(publicationsPerYear)\n",
    "    print(keywords)\n",
    "    \n",
    "    try:\n",
    "        l = driver1.find_element(\"link text\", \"Show More\")\n",
    "        driver1.execute_script('arguments[0].click()', biography)\n",
    "        biography = ((driver1.find_elements(By.XPATH,\"//div[contains(@class,'biography')]\"))[0]).text \n",
    "        print(biography)\n",
    "    except:\n",
    "        pass\n",
    "    \n",
    "    return author_profiles;\n",
    "\n",
    "\n",
    "def authorProfiling(list):\n",
    "    \n",
    "    number_of_authors = len(list)-1\n",
    "    keywords = list[0]\n",
    "    authors=[]\n",
    "    for itr in range(1,number_of_authors+1,1):\n",
    "        authors.append(list[itr])\n",
    "    if(number_of_authors==1):\n",
    "        profiling1(str(authors[0]),keywords,)\n",
    "    \n",
    "    driver1.close()\n",
    "#     driver2.close()\n",
    "#     driver3.close()\n",
    "    \n",
    "#     elif(number_of_authors==2):\n",
    "#         author1 = str(authors[0])\n",
    "#         author2 = str(authors[1])\n",
    "        \n",
    "#         t1 = threading.Thread(target=profiling1,args=(author1,keywords,))\n",
    "#         t2 = threading.Thread(target=profiling2,args=(author2,keywords,))\n",
    "       \n",
    "#         t1.start()\n",
    "#         t2.start()\n",
    "        \n",
    "#         t1.join()\n",
    "#         t2.join()\n",
    "#     else:\n",
    "#         author1 = str(authors[0])\n",
    "#         author2 = str(authors[1])\n",
    "#         author3 = str(authors[2])\n",
    "        \n",
    "#         t1 = threading.Thread(target=profiling1,args=(author1,keywords,))\n",
    "#         t2 = threading.Thread(target=profiling2,args=(author2,keywords,))\n",
    "#         t3 = threading.Thread(target=profiling3,args=(author3,keywords,))\n",
    "       \n",
    "#         t1.start()\n",
    "#         t2.start()\n",
    "#         t2.start()\n",
    "        \n",
    "#         t1.join()\n",
    "#         t2.join()\n",
    "#         t3.join()\n"
   ]
  },
  {
   "cell_type": "code",
   "execution_count": 24,
   "id": "139ca43d",
   "metadata": {},
   "outputs": [
    {
     "name": "stdout",
     "output_type": "stream",
     "text": [
      "Sunil Dutt\n",
      "{'chips', 'Show', 'electronics', 'field', 'gate', 'theory', 'arithmetic', 'detection', 'random', 'arrays', 'CMOS', 'digital', 'silicon', 'Less', 'number', 'low-power', 'tuning', 'semiconductors', 'processing', 'integrated', 'adders', 'approximation', 'semiconductor', 'correction', 'design', 'cryptography', 'signal', 'carry', 'circuits', 'elemental', 'yield', 'circuit', 'industry', 'generation', 'multiplying', 'simulation', 'logic', 'error', 'programmable'}\n",
      "6\n",
      "1\n",
      "{'image', 'analysis', 'theory', 'and'}\n"
     ]
    }
   ],
   "source": [
    "authorProfiling([\"image theory analysis and image\",\"https://ieeexplore.ieee.org/author/37085562899\"])"
   ]
  },
  {
   "cell_type": "markdown",
   "id": "f4b52966",
   "metadata": {},
   "source": []
  }
 ],
 "metadata": {
  "kernelspec": {
   "display_name": "Python 3.9.12 ('base')",
   "language": "python",
   "name": "python3"
  },
  "language_info": {
   "codemirror_mode": {
    "name": "ipython",
    "version": 3
   },
   "file_extension": ".py",
   "mimetype": "text/x-python",
   "name": "python",
   "nbconvert_exporter": "python",
   "pygments_lexer": "ipython3",
   "version": "3.9.12"
  },
  "vscode": {
   "interpreter": {
    "hash": "ad2bdc8ecc057115af97d19610ffacc2b4e99fae6737bb82f5d7fb13d2f2c186"
   }
  }
 },
 "nbformat": 4,
 "nbformat_minor": 5
}
